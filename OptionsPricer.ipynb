{
 "cells": [
  {
   "cell_type": "code",
   "execution_count": 1,
   "id": "53eac7c1",
   "metadata": {},
   "outputs": [],
   "source": [
    "import pandas as pd\n",
    "import numpy as np\n",
    "import matplotlib.pyplot as plt\n",
    "import scipy\n",
    "\n",
    "from math import comb\n",
    "from scipy.stats import norm"
   ]
  },
  {
   "cell_type": "markdown",
   "id": "ef070242",
   "metadata": {},
   "source": [
    "# Creating the class"
   ]
  },
  {
   "cell_type": "code",
   "execution_count": 2,
   "id": "e440a12f",
   "metadata": {},
   "outputs": [],
   "source": [
    "class Option:\n",
    "    '''\n",
    "    This class includes different pricing methods for the Vanilla and Digital Options\n",
    "    \n",
    "    Methods:\n",
    "    - price_analytical()\n",
    "    - price_mc()\n",
    "    - price_binomial()\n",
    "    - price()\n",
    "    '''\n",
    "\n",
    "    def __init__(self, spot, strike, vol, rate, maturity, payoff, method, \n",
    "                 payment=1.0, paths=1e3, dt_step=1.0/252.0, \n",
    "                 variance_reduction='None', option_type='Digital', confidence=0.975):\n",
    "\n",
    "        # Setup the generic option parameters\n",
    "        self.S = spot\n",
    "        self.K = strike\n",
    "        self.vol = vol\n",
    "        self.r = rate\n",
    "        self.T = maturity\n",
    "        self.payoff = payoff\n",
    "        self.method = method\n",
    "        self.payment = payment\n",
    "        self.N = int(paths)\n",
    "        self.variance_reduction = variance_reduction\n",
    "        self.option_type = option_type\n",
    "        \n",
    "        # Setup Binomial Tree parameters\n",
    "        self.dt = self.T / self.N\n",
    "        self.u = np.exp(self.vol * np.sqrt(self.dt))\n",
    "        self.d = 1.0 / self.u\n",
    "        self.q = (np.exp(self.r * self.dt) - self.d) / (self.u - self.d)\n",
    "        \n",
    "        # Setup the Monte Carlo pricing parameters\n",
    "        if variance_reduction == 'None':\n",
    "            self.N_adj = int(self.N)\n",
    "        elif variance_reduction == 'Antithetic':\n",
    "            self.N_adj = int(self.N // 2.0)\n",
    "\n",
    "        self.dt_step = dt_step\n",
    "        self.M = int(self.T / self.dt_step)\n",
    "        self.confidence = confidence\n",
    "        \n",
    "        \n",
    "    def price_analytical(self): \n",
    "        '''\n",
    "        This function creates the price using the Black-Scholes analytical framework\n",
    "        \n",
    "        Args:\n",
    "        - S (float) - spot price\n",
    "        - K (float) - strike price\n",
    "        - r (float) - funding rate\n",
    "        - T (float) - maturity of the option\n",
    "        - vol (float) - volatility of the stock price\n",
    "        - payoff (str) - payoff of the option: Call or Put\n",
    "        \n",
    "        Outputs:\n",
    "        - price (float) - price of the option\n",
    "        '''\n",
    "        \n",
    "        self.d1 = (np.log(self.S / self.K) + (self.r + 0.5 * self.vol**2)*self.T)/\\\n",
    "                                                                (self.vol*np.sqrt(self.T))\n",
    "        self.d2 = self.d1 - self.vol * np.sqrt(self.T)\n",
    "        self.df = np.exp(-self.r * self.T)\n",
    "        \n",
    "        if self.payoff == 'Call':\n",
    "            return self.payment * self.df * norm.cdf(self.d2) \n",
    "        elif self.payoff == 'Put':\n",
    "            return self.payment * self.df * norm.cdf(-self.d2)\n",
    "        else:\n",
    "            print('Choose correct payoff: Call, Put')\n",
    "            \n",
    "            \n",
    "    def price_mc(self):\n",
    "\n",
    "        '''\n",
    "        This function creates the price using the standard Monte-Carlo pricing method as well as\n",
    "        Monte-Carlo method with antithetic variables\n",
    "        \n",
    "        Args:\n",
    "        - N (int) - number of simulations\n",
    "        - M (int) - number of steps\n",
    "        - S (float) - spot price\n",
    "        - K (float) - strike price\n",
    "        - r (float) - funding rate\n",
    "        - vol (float) - volatility of the stock price\n",
    "        - variance_reduction(str) - type of method for variance reduction\n",
    "        \n",
    "        Outputs:\n",
    "        - price (float) - price of the option\n",
    "        '''\n",
    "                \n",
    "        if self.variance_reduction == 'None':\n",
    "            S_t = np.zeros((self.N_adj + 1, self.M + 1))\n",
    "            S_t[:, 0] = self.S\n",
    "            C_t = np.zeros(self.N_adj + 1)\n",
    "            \n",
    "            for j in range(self.N_adj + 1):\n",
    "                for k in range(1, self.M + 1):\n",
    "                    z_i = np.random.normal(0, 1, 1)\n",
    "                    S_t[j, k] = S_t[j, k-1] * (1 + self.r * self.dt_step + self.vol * \\\n",
    "                                               np.sqrt(self.dt_step) * z_i)\n",
    "\n",
    "            if self.payoff == 'Call':\n",
    "                for j in range(self.N_adj):\n",
    "                    C_t[j] = self.payment if S_t[j, self.M] >= self.K else 0\n",
    "\n",
    "            elif self.payoff == 'Put':\n",
    "                for j in range(self.N_adj):\n",
    "                    C_t[j] = self.payment if S_t[j, self.M] <= self.K else 0\n",
    "\n",
    "            else:\n",
    "                print('Choose correct payoff: Call, Put')\n",
    "                    \n",
    "        elif self.variance_reduction == 'Antithetic':\n",
    "            S_t_plus = np.zeros((self.N_adj + 1, self.M + 1))\n",
    "            S_t_minus = np.zeros((self.N_adj + 1, self.M + 1))\n",
    "            \n",
    "            S_t_plus[:, 0] = self.S\n",
    "            S_t_minus[:, 0] = self.S\n",
    "            \n",
    "            C_t_plus = np.zeros(self.N_adj + 1)\n",
    "            C_t_minus = np.zeros(self.N_adj + 1)\n",
    "            \n",
    "            for j in range(self.N_adj + 1):\n",
    "                for k in range(1, self.M + 1):\n",
    "                    z_i = np.random.normal(0, 1, 1)\n",
    "                    S_t_plus[j, k] = S_t_plus[j, k-1] * (1 + self.r * self.dt_step + \\\n",
    "                                                         self.vol * np.sqrt(self.dt_step) * z_i)\n",
    "                    S_t_minus[j, k] = S_t_minus[j, k-1] * (1 + self.r * self.dt_step + \\\n",
    "                                     self.vol * np.sqrt(self.dt_step) * (-z_i))\n",
    "            \n",
    "            if self.payoff == 'Call':\n",
    "                for j in range(self.N_adj):\n",
    "                    C_t_plus[j] = self.payment if S_t_plus[j, self.M] >= self.K else 0\n",
    "                    C_t_minus[j] = self.payment if S_t_minus[j, self.M] >= self.K else 0\n",
    "\n",
    "\n",
    "            elif self.payoff == 'Put':\n",
    "                for j in range(self.N_adj):\n",
    "                    C_t_plus[j] = self.payment if S_t_plus[j, self.M] <= self.K else 0\n",
    "                    C_t_minus[j] = self.payment if S_t_minus[j, self.M] <= self.K else 0\n",
    "\n",
    "            else:\n",
    "                print('Choose correct payoff: Call, Put')\n",
    "            \n",
    "            C_t = 0.5 * (C_t_plus + C_t_minus)\n",
    "            \n",
    "        else:\n",
    "            print('Choose correct method for variance reduction: None or Antithetic')\n",
    "        \n",
    "        price = np.mean(C_t) * np.exp(-self.r * self.T)\n",
    "        std = np.std(C_t * np.exp(-self.r * self.T))\n",
    "        \n",
    "        ci_lower = price - norm.ppf(self.confidence) * std / np.sqrt(self.N_adj)\n",
    "        ci_upper = price + norm.ppf(self.confidence) * std / np.sqrt(self.N_adj)\n",
    "        \n",
    "        return price, std, ci_lower, ci_upper\n",
    "    \n",
    "    \n",
    "    def price_binomial(self):\n",
    "        '''\n",
    "        This function creates the price using the standard Binomial Tree pricing method\n",
    "        \n",
    "        Args:\n",
    "        - N (int) - number of steps\n",
    "        - S (float) - spot price\n",
    "        - K (float) - strike price\n",
    "        - u (float) - probability of up-move\n",
    "        - d (float) - probability of down-move\n",
    "        - r (float) - funding rate\n",
    "        - vol (float) - volatility of the stock price\n",
    "        - q (float) - risk-neutral probability\n",
    "        \n",
    "        Outputs:\n",
    "        - price (float) - price of the option\n",
    "        '''\n",
    "        \n",
    "        S_t = np.zeros((self.N + 1, self.N + 1))\n",
    "        \n",
    "        # Generate stock prices path\n",
    "        for i in range(self.N + 1):\n",
    "            for j in range(self.N + 1):\n",
    "                S_t[j, i] = self.S * self.u**(i-j) * self.d**j\n",
    "                \n",
    "        # Generate array for options prices\n",
    "        C_t = np.zeros((self.N + 1, self.N + 1))\n",
    "        \n",
    "        # Generate payoff \n",
    "        if self.payoff == 'Call':\n",
    "            C_t[:, self.N] = [self.payment if S_t_i >= self.K else 0.0 for S_t_i in S_t[:, self.N]]\n",
    "        elif self.payoff == 'Put':\n",
    "            C_t[:, self.N] = [self.payment if S_t_i <= self.K else 0.0 for S_t_i in S_t[:, self.N]]\n",
    "        else:\n",
    "            print('Choose correct payoff: Call, Put')\n",
    "        \n",
    "        # Recursively calculate the options price\n",
    "        for t in range(self.N):\n",
    "            for j in range(self.N):\n",
    "                C_t[j, self.N - t - 1] = np.exp(-self.r * self.dt) * (self.q * C_t[j, self.N - t] + \\\n",
    "                                                                     (1 - self.q) * C_t[j + 1, self.N - t])\n",
    "        price = C_t[0, 0] \n",
    "            \n",
    "        return price\n",
    "    \n",
    "    def price(self):\n",
    "        '''\n",
    "        This function returns the price of the option, given the chosen calculation method\n",
    "        \n",
    "        Args:\n",
    "        - None\n",
    "        \n",
    "        Outputs:\n",
    "        - price (float) - price of the option\n",
    "        '''\n",
    "        \n",
    "        if self.method == 'Analytical':\n",
    "            price = self.price_analytical()\n",
    "            \n",
    "        elif self.method == 'MonteCarlo':\n",
    "            price = self.price_mc()\n",
    "            \n",
    "        elif self.method == 'Binomial':\n",
    "            price = self.price_binomial()\n",
    "                                \n",
    "        else:\n",
    "            print('Choose correct pricing method: Analytical, MonteCarlo, Binomial')\n",
    "            \n",
    "        return np.round(price, 4)"
   ]
  },
  {
   "cell_type": "markdown",
   "id": "e3b11905",
   "metadata": {},
   "source": [
    "# Checking the results"
   ]
  },
  {
   "cell_type": "markdown",
   "id": "53149f39",
   "metadata": {},
   "source": [
    "## vs Binomial"
   ]
  },
  {
   "cell_type": "code",
   "execution_count": 3,
   "id": "bbfa4939",
   "metadata": {},
   "outputs": [
    {
     "name": "stdout",
     "output_type": "stream",
     "text": [
      "This is the analytical price of Digital Call:  0.4341\n"
     ]
    }
   ],
   "source": [
    "# Here is the analytical price for the Digital option\n",
    "price_analytical = Option(spot=100, strike=110, vol=0.16, rate=0.1, maturity=1.0, \n",
    "       payoff='Call', method='Analytical', payment=1.0).price()\n",
    "\n",
    "print('This is the analytical price of Digital Call: ', price_analytical)"
   ]
  },
  {
   "cell_type": "code",
   "execution_count": 4,
   "id": "ab289da9",
   "metadata": {},
   "outputs": [],
   "source": [
    "# This is the behavior of the option price with repsect to number of nodes\n",
    "\n",
    "prices_binomial = []\n",
    "\n",
    "\n",
    "for n in range(1, 300):\n",
    "    price = Option(spot=100, strike=110, vol=0.16, rate=0.1, maturity=1.0, \n",
    "                   payoff='Call', method='Binomial', payment=1.0, paths=n).price()\n",
    "    \n",
    "    prices_binomial.append(price)"
   ]
  },
  {
   "cell_type": "code",
   "execution_count": 5,
   "id": "ba77a695",
   "metadata": {},
   "outputs": [
    {
     "data": {
      "image/png": "[encoded data removed]",
      "text/plain": [
       "<Figure size 720x360 with 1 Axes>"
      ]
     },
     "metadata": {
      "needs_background": "light"
     },
     "output_type": "display_data"
    }
   ],
   "source": [
    "plt.figure(figsize=(10, 5));\n",
    "plt.plot(range(1, 300), prices_binomial);\n",
    "plt.title('Price of Digital Call using Binomial Trees vs the number of nodes');"
   ]
  },
  {
   "cell_type": "code",
   "execution_count": 6,
   "id": "364127fa",
   "metadata": {},
   "outputs": [
    {
     "name": "stdout",
     "output_type": "stream",
     "text": [
      "Price analytical 0.4341, price binomial 0.7124\n",
      "Price analytical 0.4341, price binomial 0.4407\n",
      "The break-even N is  2\n"
     ]
    }
   ],
   "source": [
    "# Let's plot the value of the option using binomial model and find N' for which price is 1 cent away from \n",
    "# analytical one\n",
    "\n",
    "prices_binomial = []\n",
    "\n",
    "price_diverge = True\n",
    "\n",
    "n = 1\n",
    "\n",
    "while price_diverge:\n",
    "    price = Option(spot=100, strike=110, vol=0.16, rate=0.1, maturity=1.0, \n",
    "                   payoff='Call', method='Binomial', payment=1.0, paths=n).price()\n",
    "    \n",
    "    prices_binomial.append(price)\n",
    "    print(f'Price analytical {price_analytical}, price binomial {price}')\n",
    "    \n",
    "    if np.abs(price_analytical - price) < 0.01:\n",
    "        price_diverge = False\n",
    "        print('The break-even N is ', n)\n",
    "    \n",
    "    n += 1"
   ]
  },
  {
   "cell_type": "code",
   "execution_count": 7,
   "id": "26a873ca",
   "metadata": {},
   "outputs": [
    {
     "data": {
      "image/png": "[encoded data removed]",
      "text/plain": [
       "<Figure size 720x360 with 1 Axes>"
      ]
     },
     "metadata": {
      "needs_background": "light"
     },
     "output_type": "display_data"
    }
   ],
   "source": [
    "plt.figure(figsize=(10, 5));\n",
    "plt.plot(range(1, n), prices_binomial);\n",
    "plt.title('Price of Digital Call using Binomial Trees vs the number of nodes');"
   ]
  },
  {
   "cell_type": "markdown",
   "id": "a063a121",
   "metadata": {},
   "source": [
    "## vs Monte Carlo"
   ]
  },
  {
   "cell_type": "code",
   "execution_count": 15,
   "id": "11a27ee0",
   "metadata": {},
   "outputs": [
    {
     "name": "stdout",
     "output_type": "stream",
     "text": [
      "30000\n",
      "Price analytical 0.4341, price binomial 0.4359, Lower CI 0.4308, Upper CI 0.441\n",
      "31000\n",
      "Price analytical 0.4341, price binomial 0.4365, Lower CI 0.4315, Upper CI 0.4416\n",
      "32000\n",
      "Price analytical 0.4341, price binomial 0.4359, Lower CI 0.4309, Upper CI 0.4408\n",
      "The break-even N is  32000\n"
     ]
    }
   ],
   "source": [
    "prices_mc_standard = []\n",
    "\n",
    "price_diverge = True\n",
    "\n",
    "n = 30000\n",
    "\n",
    "while price_diverge:\n",
    "    print(n)\n",
    "    price, std, ci_lower, ci_upper = Option(spot=100, strike=110, vol=0.16, rate=0.1, maturity=1.0, \n",
    "                   payoff='Call', method='MonteCarlo', payment=1.0, paths=n).price()\n",
    "    \n",
    "    prices_mc_standard.append(price)\n",
    "    \n",
    "    print(f'Price analytical {price_analytical}, price binomial {price}, Lower CI {ci_lower}, Upper CI {ci_upper}')\n",
    "    \n",
    "    if (ci_upper - ci_lower) <= 0.01:\n",
    "        price_diverge = False\n",
    "        print('The break-even N is ', n)\n",
    "    \n",
    "    n += 1000"
   ]
  },
  {
   "cell_type": "code",
   "execution_count": 8,
   "id": "5d93742f",
   "metadata": {},
   "outputs": [
    {
     "data": {
      "text/plain": [
       "array([0.4303, 0.4519, 0.4023, 0.4583])"
      ]
     },
     "execution_count": 8,
     "metadata": {},
     "output_type": "execute_result"
    }
   ],
   "source": [
    "# Let's check the standard errors\n",
    "Option(spot=100, strike=110, vol=0.16, rate=0.1, maturity=1.0, \n",
    "                   payoff='Call', method='MonteCarlo', payment=1.0, paths=1000).price()"
   ]
  },
  {
   "cell_type": "code",
   "execution_count": 9,
   "id": "43496277",
   "metadata": {
    "scrolled": false
   },
   "outputs": [
    {
     "name": "stdout",
     "output_type": "stream",
     "text": [
      "1000\n",
      "Price analytical 0.4341, price binomial 0.4362, Lower CI 0.4288, Upper CI 0.4435\n",
      "1100\n",
      "Price analytical 0.4341, price binomial 0.436, Lower CI 0.4289, Upper CI 0.4431\n",
      "1200\n",
      "Price analytical 0.4341, price binomial 0.4396, Lower CI 0.4336, Upper CI 0.4456\n",
      "1300\n",
      "Price analytical 0.4341, price binomial 0.4378, Lower CI 0.4317, Upper CI 0.444\n",
      "1400\n",
      "Price analytical 0.4341, price binomial 0.4356, Lower CI 0.4293, Upper CI 0.442\n",
      "1500\n",
      "Price analytical 0.4341, price binomial 0.4349, Lower CI 0.4287, Upper CI 0.4412\n",
      "1600\n",
      "Price analytical 0.4341, price binomial 0.4343, Lower CI 0.4282, Upper CI 0.4405\n",
      "1700\n",
      "Price analytical 0.4341, price binomial 0.4338, Lower CI 0.4278, Upper CI 0.4399\n",
      "1800\n",
      "Price analytical 0.4341, price binomial 0.4318, Lower CI 0.4257, Upper CI 0.438\n",
      "1900\n",
      "Price analytical 0.4341, price binomial 0.431, Lower CI 0.4249, Upper CI 0.4371\n",
      "2000\n",
      "Price analytical 0.4341, price binomial 0.4334, Lower CI 0.4278, Upper CI 0.4391\n",
      "2100\n",
      "Price analytical 0.4341, price binomial 0.4348, Lower CI 0.4295, Upper CI 0.4401\n",
      "2200\n",
      "Price analytical 0.4341, price binomial 0.4347, Lower CI 0.4296, Upper CI 0.4399\n",
      "2300\n",
      "Price analytical 0.4341, price binomial 0.4332, Lower CI 0.4279, Upper CI 0.4384\n",
      "2400\n",
      "Price analytical 0.4341, price binomial 0.4366, Lower CI 0.4319, Upper CI 0.4413\n",
      "The break-even N is  2400\n"
     ]
    }
   ],
   "source": [
    "# And check for antithetic variables\n",
    "prices_mc_antithetic = []\n",
    "\n",
    "price_diverge = True\n",
    "\n",
    "n = 1000\n",
    "\n",
    "while price_diverge:\n",
    "    print(n)\n",
    "    price, std, ci_lower, ci_upper = Option(spot=100, strike=110, vol=0.16, rate=0.1, maturity=1.0, \n",
    "                                            payoff='Call', method='MonteCarlo', \n",
    "                                            variance_reduction='Antithetic',\n",
    "                                            payment=1.0, paths=n).price()\n",
    "    \n",
    "    prices_mc_antithetic.append(price)\n",
    "    \n",
    "    print(f'Price analytical {price_analytical}, price binomial {price}, Lower CI {ci_lower}, Upper CI {ci_upper}')\n",
    "    \n",
    "    if (ci_upper - ci_lower) <= 0.01:\n",
    "        price_diverge = False\n",
    "        print('The break-even N is ', n)\n",
    "    \n",
    "    n += 100"
   ]
  },
  {
   "cell_type": "code",
   "execution_count": 10,
   "id": "af661688",
   "metadata": {},
   "outputs": [
    {
     "data": {
      "text/plain": [
       "array([0.4262, 0.1057, 0.417 , 0.4355])"
      ]
     },
     "execution_count": 10,
     "metadata": {},
     "output_type": "execute_result"
    }
   ],
   "source": [
    "Option(spot=100, strike=110, vol=0.16, rate=0.1, maturity=1.0, \n",
    "        payoff='Call', method='MonteCarlo', \n",
    "        variance_reduction='Antithetic',\n",
    "        payment=1.0, paths=1000).price()"
   ]
  },
  {
   "cell_type": "markdown",
   "id": "4192eaad",
   "metadata": {},
   "source": [
    "# Measuring the computational complexity"
   ]
  },
  {
   "cell_type": "code",
   "execution_count": 16,
   "id": "cc5b15b0",
   "metadata": {},
   "outputs": [
    {
     "name": "stdout",
     "output_type": "stream",
     "text": [
      "29.3 µs ± 390 ns per loop (mean ± std. dev. of 7 runs, 10000 loops each)\n"
     ]
    }
   ],
   "source": [
    "%%timeit\n",
    "\n",
    "Option(spot=100, strike=110, vol=0.16, rate=0.1, maturity=1.0, \n",
    "                   payoff='Call', method='Binomial', payment=1.0, paths=2).price()"
   ]
  },
  {
   "cell_type": "code",
   "execution_count": 17,
   "id": "77753d93",
   "metadata": {},
   "outputs": [
    {
     "data": {
      "text/plain": [
       "0.4407"
      ]
     },
     "execution_count": 17,
     "metadata": {},
     "output_type": "execute_result"
    }
   ],
   "source": [
    "Option(spot=100, strike=110, vol=0.16, rate=0.1, maturity=1.0, \n",
    "                   payoff='Call', method='Binomial', payment=1.0, paths=2).price()"
   ]
  },
  {
   "cell_type": "code",
   "execution_count": 11,
   "id": "d0322530",
   "metadata": {},
   "outputs": [
    {
     "name": "stdout",
     "output_type": "stream",
     "text": [
      "3.62 s ± 23.5 ms per loop (mean ± std. dev. of 7 runs, 1 loop each)\n"
     ]
    }
   ],
   "source": [
    "%%timeit\n",
    "\n",
    "Option(spot=100, strike=110, vol=0.16, rate=0.1, maturity=1.0, \n",
    "        payoff='Call', method='MonteCarlo', \n",
    "        variance_reduction='None',\n",
    "        payment=1.0, paths=2000).price()"
   ]
  },
  {
   "cell_type": "code",
   "execution_count": 12,
   "id": "1a96e60a",
   "metadata": {},
   "outputs": [
    {
     "data": {
      "text/plain": [
       "array([0.4427, 0.4523, 0.4229, 0.4625])"
      ]
     },
     "execution_count": 12,
     "metadata": {},
     "output_type": "execute_result"
    }
   ],
   "source": [
    "Option(spot=100, strike=110, vol=0.16, rate=0.1, maturity=1.0, \n",
    "        payoff='Call', method='MonteCarlo', \n",
    "        variance_reduction='None',\n",
    "        payment=1.0, paths=2000).price()"
   ]
  },
  {
   "cell_type": "code",
   "execution_count": 13,
   "id": "97c31983",
   "metadata": {},
   "outputs": [
    {
     "name": "stdout",
     "output_type": "stream",
     "text": [
      "2.99 s ± 49.3 ms per loop (mean ± std. dev. of 7 runs, 1 loop each)\n"
     ]
    }
   ],
   "source": [
    "%%timeit\n",
    "\n",
    "Option(spot=100, strike=110, vol=0.16, rate=0.1, maturity=1.0, \n",
    "        payoff='Call', method='MonteCarlo', \n",
    "        variance_reduction='Antithetic',\n",
    "        payment=1.0, paths=2000).price()"
   ]
  },
  {
   "cell_type": "code",
   "execution_count": 14,
   "id": "697b6cd4",
   "metadata": {},
   "outputs": [
    {
     "data": {
      "text/plain": [
       "array([0.433 , 0.0917, 0.4273, 0.4387])"
      ]
     },
     "execution_count": 14,
     "metadata": {},
     "output_type": "execute_result"
    }
   ],
   "source": [
    "Option(spot=100, strike=110, vol=0.16, rate=0.1, maturity=1.0, \n",
    "        payoff='Call', method='MonteCarlo', \n",
    "        variance_reduction='Antithetic',\n",
    "        payment=1.0, paths=2000).price()"
   ]
  },
  {
   "cell_type": "code",
   "execution_count": null,
   "id": "b94bcb93",
   "metadata": {},
   "outputs": [],
   "source": []
  }
 ],
 "metadata": {
  "kernelspec": {
   "display_name": "Python 3 (ipykernel)",
   "language": "python",
   "name": "python3"
  },
  "language_info": {
   "codemirror_mode": {
    "name": "ipython",
    "version": 3
   },
   "file_extension": ".py",
   "mimetype": "text/x-python",
   "name": "python",
   "nbconvert_exporter": "python",
   "pygments_lexer": "ipython3",
   "version": "3.9.7"
  }
 },
 "nbformat": 4,
 "nbformat_minor": 5
}
